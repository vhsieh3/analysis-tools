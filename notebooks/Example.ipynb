{
 "cells": [
  {
   "cell_type": "code",
   "execution_count": 1,
   "id": "47f099e0",
   "metadata": {},
   "outputs": [],
   "source": [
    "import pandas as pd\n",
    "from sqlalchemy import create_engine\n",
    "from urllib.parse import quote_plus as urlquote\n",
    "import sys\n",
    "import os\n",
    "os.chdir('/Users/veronica/Documents/GitHub/analysis-tools')\n",
    "from src import utils, credentials"
   ]
  },
  {
   "cell_type": "code",
   "execution_count": 2,
   "id": "61084324",
   "metadata": {},
   "outputs": [],
   "source": [
    "creds = credentials.creds\n",
    "engine = utils.create_sql_db(creds)"
   ]
  },
  {
   "cell_type": "code",
   "execution_count": 3,
   "id": "a613b89f",
   "metadata": {},
   "outputs": [],
   "source": [
    "query = 'SELECT * FROM analytics.contract_facts LIMIT 100'\n",
    "\n",
    "df_test = pd.read_sql_query(query, engine)"
   ]
  },
  {
   "cell_type": "code",
   "execution_count": 5,
   "id": "34e675af",
   "metadata": {
    "scrolled": true
   },
   "outputs": [],
   "source": [
    "df_test"
   ]
  },
  {
   "cell_type": "code",
   "execution_count": null,
   "id": "64dff151",
   "metadata": {},
   "outputs": [],
   "source": []
  }
 ],
 "metadata": {
  "kernelspec": {
   "display_name": "Python 3 (ipykernel)",
   "language": "python",
   "name": "python3"
  },
  "language_info": {
   "codemirror_mode": {
    "name": "ipython",
    "version": 3
   },
   "file_extension": ".py",
   "mimetype": "text/x-python",
   "name": "python",
   "nbconvert_exporter": "python",
   "pygments_lexer": "ipython3",
   "version": "3.7.9"
  }
 },
 "nbformat": 4,
 "nbformat_minor": 5
}
